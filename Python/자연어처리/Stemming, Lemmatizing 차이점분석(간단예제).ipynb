{
 "cells": [
  {
   "cell_type": "markdown",
   "metadata": {},
   "source": [
    "# 단어 원형(어근)을 추출 : Stemming / Lemmatizing\n",
    "\n",
    "  - Stemming : 단어를 원형으로 표현, 단순히 -ing, -en, -ed 등을 떼어내는 것으로 사전에 없는 단어가 생성될 수도 있음\n",
    "  - Lemmatizing : 단어를 원형으로 표현, 사전에 있는 단어로만 결과 도출, 정확성 향상을 위해 품사도 인자로 받을 수 있음?"
   ]
  },
  {
   "cell_type": "code",
   "execution_count": 3,
   "metadata": {},
   "outputs": [],
   "source": [
    "# stemming 해보기 : nltk에서 라이브러리 import\n",
    "from nltk.stem import PorterStemmer\n",
    "from nltk.tokenize import word_tokenize\n",
    "\n",
    "stemmer = PorterStemmer()"
   ]
  },
  {
   "cell_type": "code",
   "execution_count": 6,
   "metadata": {},
   "outputs": [
    {
     "data": {
      "text/plain": [
       "['recognit', 'recogn', 'recogn', 'recogniz', 'recogniz']"
      ]
     },
     "execution_count": 6,
     "metadata": {},
     "output_type": "execute_result"
    }
   ],
   "source": [
    "example = [\"recognition\", \"recognize\", \"recognized\", \"recognizable\", \"recognizably\"]\n",
    "\n",
    "'''\n",
    "for i in example :\n",
    "    print(stemmer.stem(i))\n",
    "'''\n",
    "\n",
    "result = [stemmer.stem(i) for i in example]\n",
    "result"
   ]
  },
  {
   "cell_type": "code",
   "execution_count": 44,
   "metadata": {},
   "outputs": [],
   "source": [
    "# lemmataizing 해보기 : nltk에서 라이브러리 import\n",
    "from nltk.stem import WordNetLemmatizer\n",
    "\n",
    "lemmatizer = WordNetLemmatizer()\n",
    "\n",
    "result = [lemmatizer.lemmatize(i) for i in example]\n",
    "result\n",
    "\n",
    "basewords = []\n",
    "newwords = []"
   ]
  },
  {
   "cell_type": "code",
   "execution_count": 45,
   "metadata": {},
   "outputs": [],
   "source": [
    "# 함수 만들어서 사용해봄\n",
    "def lemmatizing(word) :\n",
    "    basewords.append(word)\n",
    "    newwords.append(lemmatizer.lemmatize(word))\n",
    "    \n",
    "def pos_lemmatizing(word, pos) :\n",
    "    basewords.append(word)\n",
    "    newwords.append(lemmatizer.lemmatize(word, pos))"
   ]
  },
  {
   "cell_type": "code",
   "execution_count": 46,
   "metadata": {},
   "outputs": [
    {
     "name": "stdout",
     "output_type": "stream",
     "text": [
      "['recognized', 'recognized']\n",
      "['recognized', 'recognize']\n"
     ]
    }
   ],
   "source": [
    "#lemmatizing(\"rabbits\")\n",
    "lemmatizing(\"recognized\")\n",
    "#pos_lemmatizing(\"better\", \"a\")\n",
    "pos_lemmatizing(\"recognized\", \"v\") # 품사를 인자로 입력받아서 좀 더 정확한 분석 가능\n",
    "\n",
    "print(basewords)\n",
    "print(newwords)"
   ]
  },
  {
   "cell_type": "code",
   "execution_count": null,
   "metadata": {},
   "outputs": [],
   "source": []
  }
 ],
 "metadata": {
  "kernelspec": {
   "display_name": "Python 3",
   "language": "python",
   "name": "python3"
  },
  "language_info": {
   "codemirror_mode": {
    "name": "ipython",
    "version": 3
   },
   "file_extension": ".py",
   "mimetype": "text/x-python",
   "name": "python",
   "nbconvert_exporter": "python",
   "pygments_lexer": "ipython3",
   "version": "3.7.3"
  }
 },
 "nbformat": 4,
 "nbformat_minor": 2
}
