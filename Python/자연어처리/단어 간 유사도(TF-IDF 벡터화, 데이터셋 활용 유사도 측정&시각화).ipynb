{
 "cells": [
  {
   "cell_type": "markdown",
   "metadata": {},
   "source": [
    "# 문서 유사도 측정\n",
    "  - 코사인 유사도\n",
    "  - 벡터화된 값을 선으로 표시했을 때 기울기 간 차이가 작으면 유사도 높음\n",
    "  - 기울기 간의 차이가 크면 유사도 낮음, 4분면(음수)일때 처리도 생각해야함"
   ]
  },
  {
   "cell_type": "code",
   "execution_count": 2,
   "metadata": {},
   "outputs": [],
   "source": [
    "import sklearn, nltk\n",
    "import numpy as np\n",
    "# 문장 여러단위면 문장단위 토크나이즈, 다음 단어단위 토크나이즈, 그 다음 품사 태깅\n",
    "from nltk import sent_tokenize, punkt # 마침표, 개행문자 등의 데이터셋? : punkt\n",
    "\n",
    "def cosine_similarity(word1, word2) : # 두 개의 매개변수를 갖는 함수 정의 : 코사인 유사도\n",
    "    words = np.dot(word1, word2) # 곱연산\n",
    "    # 제곱의 합을 루트씌워서 정규화\n",
    "    words_norm = (np.sqrt(sum(np.square(word1)))) * np.sqrt(sum(np.square(word2)))\n",
    "    # 유사도 산출 부분 : 곱연산 수행한 것을 정규화된 값으로 나눠 산출\n",
    "    similar = words / words_norm\n",
    "    \n",
    "    return similar"
   ]
  },
  {
   "cell_type": "code",
   "execution_count": 27,
   "metadata": {},
   "outputs": [
    {
     "name": "stdout",
     "output_type": "stream",
     "text": [
      "{'if': 5, 'you': 11, 'choose': 2, 'red': 7, 'one': 6, 'will': 10, 'be': 0, 'dead': 4, 'blue': 1, 'safe': 8, 'white': 9, 'crazy': 3}\n",
      "\n",
      "CountVectorizer : \n",
      "  (0, 4)\t1\n",
      "  (0, 0)\t1\n",
      "  (0, 10)\t1\n",
      "  (0, 6)\t1\n",
      "  (0, 7)\t1\n",
      "  (0, 2)\t1\n",
      "  (0, 11)\t2\n",
      "  (0, 5)\t1\n",
      "  (1, 8)\t1\n",
      "  (1, 1)\t1\n",
      "  (1, 0)\t1\n",
      "  (1, 10)\t1\n",
      "  (1, 6)\t1\n",
      "  (1, 2)\t1\n",
      "  (1, 11)\t2\n",
      "  (1, 5)\t1\n",
      "  (2, 3)\t1\n",
      "  (2, 9)\t1\n",
      "  (2, 0)\t1\n",
      "  (2, 10)\t1\n",
      "  (2, 6)\t1\n",
      "  (2, 2)\t1\n",
      "  (2, 11)\t2\n",
      "  (2, 5)\t1\n",
      "\n",
      "TF-IDFVectorizer : \n",
      "  (0, 5)\t0.26052362572959153\n",
      "  (0, 11)\t0.5210472514591831\n",
      "  (0, 2)\t0.26052362572959153\n",
      "  (0, 7)\t0.4411048423733124\n",
      "  (0, 6)\t0.26052362572959153\n",
      "  (0, 10)\t0.26052362572959153\n",
      "  (0, 0)\t0.26052362572959153\n",
      "  (0, 4)\t0.4411048423733124\n",
      "  (1, 5)\t0.26052362572959153\n",
      "  (1, 11)\t0.5210472514591831\n",
      "  (1, 2)\t0.26052362572959153\n",
      "  (1, 6)\t0.26052362572959153\n",
      "  (1, 10)\t0.26052362572959153\n",
      "  (1, 0)\t0.26052362572959153\n",
      "  (1, 1)\t0.4411048423733124\n",
      "  (1, 8)\t0.4411048423733124\n",
      "  (2, 5)\t0.26052362572959153\n",
      "  (2, 11)\t0.5210472514591831\n",
      "  (2, 2)\t0.26052362572959153\n",
      "  (2, 6)\t0.26052362572959153\n",
      "  (2, 10)\t0.26052362572959153\n",
      "  (2, 0)\t0.26052362572959153\n",
      "  (2, 9)\t0.4411048423733124\n",
      "  (2, 3)\t0.4411048423733124\n"
     ]
    }
   ],
   "source": [
    "# 문서를 벡터로 바꾸기 : TfidfVectorizer\n",
    "# 단어 빈도와 문서 빈도의 역수를 곱한 값 : Tf-Idf\n",
    "# 단어가 출현한 빈도 * log(1/단어가 출현한 문서의 전체 갯수)\n",
    "# 카운팅하여 벡터화시키는 방법에서 단어 간 중요도의 차이를 반영\n",
    "# 의미없는 조사와 같은 단어를 카운팅해주되, 가중치는 조금만 주는 방식\n",
    "from sklearn.feature_extraction.text import TfidfVectorizer\n",
    "from sklearn.feature_extraction.text import CountVectorizer\n",
    "\n",
    "# 3줄, 1줄에 12개 단어: 조사의 경우 IDF 값 낮아지는지?\n",
    "# if, a, be..\n",
    "wordlist = ['if you choose a red one, you will be dead',\n",
    "           'if you choose a blue one, you will be safe',\n",
    "           'if you choose a white one, you will be crazy']\n",
    "\n",
    "# 카운팅해서 벡터화시키는 방법\n",
    "vectorize =  CountVectorizer()\n",
    "word_vectorize = vectorize.fit_transform(wordlist)#.toarray()\n",
    "\n",
    "print(vectorize.vocabulary_) # 각각의 열과 매핑되는 단어 출력\n",
    "print(\"\\nCountVectorizer : \\n{}\\n\".format(word_vectorize))\n",
    "############################################################################\n",
    "\n",
    "# TF-IDF 벡터화\n",
    "vectorize = TfidfVectorizer()\n",
    "word_vectorize = vectorize.fit_transform(wordlist)#.toarray() # 단어별 IDF 값\n",
    "\n",
    "#print(vectorize.vocabulary_) # 각각의 열과 매핑되는 단어 출력\n",
    "#print(word_vectorize.shape)\n",
    "print(\"TF-IDFVectorizer : \\n{}\".format(word_vectorize))"
   ]
  },
  {
   "cell_type": "code",
   "execution_count": 21,
   "metadata": {},
   "outputs": [
    {
     "name": "stdout",
     "output_type": "stream",
     "text": [
      "[[0.26052363 0.         0.26052363 0.         0.44110484 0.26052363\n",
      "  0.26052363 0.44110484 0.         0.         0.26052363 0.52104725]\n",
      " [0.26052363 0.44110484 0.26052363 0.         0.         0.26052363\n",
      "  0.26052363 0.         0.44110484 0.         0.26052363 0.52104725]\n",
      " [0.26052363 0.         0.26052363 0.44110484 0.         0.26052363\n",
      "  0.26052363 0.         0.         0.44110484 0.26052363 0.52104725]]\n"
     ]
    }
   ],
   "source": [
    "# TF-IDF로 변환하면 Sparse Matrix(희소행렬) = Dense Matrix(밀집행렬)로 변환\n",
    "# 희소행렬은 대부분의 값이 0 : 저장할 때 효율성이 떨어짐? = 메모리 문제\n",
    "# 시스템이 약하게 연결되었다고도 표현.. 어쨌든 밀집행렬로 변환하는게 효율성 좋음\n",
    "\n",
    "vectorize_dense = word_vectorize.todense()\n",
    "\n",
    "print(vectorize_dense)"
   ]
  },
  {
   "cell_type": "code",
   "execution_count": 38,
   "metadata": {},
   "outputs": [
    {
     "name": "stdout",
     "output_type": "stream",
     "text": [
      "첫번째/두번째 문장 간 코사인 유사도 : 0.61\n",
      "첫번째/세번째 문장 간 코사인 유사도 : 0.61\n",
      "두번째/세번째 문장 간 코사인 유사도 : 0.61\n"
     ]
    }
   ],
   "source": [
    "# 리스트의 첫번째/두번째/세번째 문장 벡터값으로 코사인 유사도 산출\n",
    "# ValueError? shapes (1,12) and (1,12) not aligned: 12 (dim 1) != 1 (dim 0)\n",
    "# reshape 해주라는것 같은데 (-1, ) \n",
    "\n",
    "vectorize_sen1 = np.array(vectorize_dense[0]).reshape(-1,)\n",
    "vectorize_sen2 = np.array(vectorize_dense[1]).reshape(-1,)\n",
    "vectorize_sen3 = np.array(vectorize_dense[2]).reshape(-1,)\n",
    "\n",
    "#vectorize_sen1 \n",
    "\n",
    "# 함수로 코사인유사도 산출\n",
    "sen_similar12 = cosine_similarity(vectorize_sen1, vectorize_sen2)\n",
    "sen_similar13 = cosine_similarity(vectorize_sen1, vectorize_sen3)\n",
    "sen_similar23 = cosine_similarity(vectorize_sen2, vectorize_sen3)\n",
    "\n",
    "#sen_similar\n",
    "# 소수 둘째자리까지만\n",
    "print(\"첫번째/두번째 문장 간 코사인 유사도 : {0:.2f}\".format(sen_similar12))\n",
    "print(\"첫번째/세번째 문장 간 코사인 유사도 : {0:.2f}\".format(sen_similar13))\n",
    "print(\"두번째/세번째 문장 간 코사인 유사도 : {0:.2f}\".format(sen_similar23))"
   ]
  },
  {
   "cell_type": "markdown",
   "metadata": {},
   "source": [
    "# Opinion review 데이터셋 활용 유사도 측정, 시각화\n",
    "  - 기반 데이터(OpinosisDataset1.0.zip) : https://archive.ics.uci.edu/ml/datasets/Opinosis+Opinion+%26frasl%3B+Review"
   ]
  },
  {
   "cell_type": "code",
   "execution_count": 41,
   "metadata": {},
   "outputs": [],
   "source": [
    "import pandas as pd\n",
    "# glob : 파일의 목록을 출력\n",
    "# os : glob와 같이 사용 - 디렉토리여부 판단? <DIR> 붙여 출력시켜줌\n",
    "import glob, os, nltk, string\n",
    "from nltk.stem import WordNetLemmatizer\n",
    "#TF-IDF 벡터화, Kmeans : K 평균 군집화 모델 - KNN알고리즘(거리기반 판단)\n",
    "from sklearn.feature_extraction.text import TfidfVectorizer\n",
    "from sklearn.cluster import KMeans\n",
    "\n",
    "# 개행문자, 마침표같은 불필요한거 제거\n",
    "remove_punct_dict = dict((ord(punct), None) for punct in string.punctuation)\n",
    "lemmar = WordNetLemmatizer() # lemmatizing\n",
    "\n",
    "# 함수 두 개 : lemmatizing된 단어 토큰\n",
    "# 단어 토크나이즈 -> 불필요단어 제거된 거로 변환?\n",
    "\n",
    "def LemTokens(tokens):\n",
    "    return [lemmar.lemmatize(token) for token in tokens]\n",
    "\n",
    "def LemNormalize(text):\n",
    "    return LemTokens(nltk.word_tokenize(text.lower().translate(remove_punct_dict)))"
   ]
  },
  {
   "cell_type": "code",
   "execution_count": 42,
   "metadata": {},
   "outputs": [
    {
     "name": "stderr",
     "output_type": "stream",
     "text": [
      "C:\\ProgramData\\Anaconda3_64\\lib\\site-packages\\ipykernel_launcher.py:10: FutureWarning: read_table is deprecated, use read_csv instead, passing sep='\\t'.\n",
      "  # Remove the CWD from sys.path while we load stuff.\n",
      "C:\\ProgramData\\Anaconda3_64\\lib\\site-packages\\sklearn\\feature_extraction\\text.py:300: UserWarning: Your stop_words may be inconsistent with your preprocessing. Tokenizing the stop words generated tokens ['ha', 'le', 'u', 'wa'] not in stop_words.\n",
      "  'stop_words.' % sorted(inconsistent))\n"
     ]
    }
   ],
   "source": [
    "# 파일경로 수동으로 지정 후 다 가져오기 - glob로 파일명, os로 디렉토리여부\n",
    "path = r'C:\\Users\\Lim\\Desktop\\File\\OpinosisDataset1.0\\OpinosisDataset1.0\\topics'\n",
    "all_files = glob.glob(os.path.join(path, \"*.data\"))     \n",
    "filename_list = []\n",
    "opinion_text = []\n",
    "\n",
    "# 반복문 사용해서 모두 읽기\n",
    "for file_ in all_files:\n",
    "    # 인코딩 latin1? 방식, \\\\ or . 기준으로 쪼개고 리스트에 추가\n",
    "    df = pd.read_table(file_,index_col=None, header=0,encoding='latin1')\n",
    "    filename_ = file_.split('\\\\')[-1]\n",
    "    filename = filename_.split('.')[0]\n",
    "    filename_list.append(filename)\n",
    "    opinion_text.append(df.to_string())\n",
    "\n",
    "# 데이터프레임으로 만들기\n",
    "document_df = pd.DataFrame({'filename':filename_list, 'opinion_text':opinion_text})\n",
    "\n",
    "\n",
    "# TF-IDF 벡터화 수행\n",
    "tfidf_vect = TfidfVectorizer(tokenizer=LemNormalize, stop_words='english' , \\\n",
    "                             ngram_range=(1,2), min_df=0.05, max_df=0.85 )\n",
    "feature_vect = tfidf_vect.fit_transform(document_df['opinion_text'])\n",
    "\n",
    "# knn 알고리즘 사용해서 수행, 군집갯수 3, 최대 반복수 10000?, 시드값? 0\n",
    "km_cluster = KMeans(n_clusters=3, max_iter=10000, random_state=0)\n",
    "km_cluster.fit(feature_vect) # 모델 훈련\n",
    "\n",
    "cluster_label = km_cluster.labels_\n",
    "cluster_centers = km_cluster.cluster_centers_\n",
    "document_df['cluster_label'] = cluster_label"
   ]
  },
  {
   "cell_type": "code",
   "execution_count": 52,
   "metadata": {},
   "outputs": [
    {
     "name": "stdout",
     "output_type": "stream",
     "text": [
      "\"호텔\"로 군집화된 문서들의 데이터프레임 인덱스:\n",
      " Int64Index([1, 13, 14, 15, 20, 21, 24, 28, 30, 31, 32, 38, 39, 40, 45, 46], dtype='int64')\n",
      "\n",
      "---비교 기준 문서  bathroom_bestwestern_hotel_sfo  와(과) 타 문서 간 유사도---\n",
      "[[1.         0.05907195 0.05404862 0.03739629 0.06629355 0.06734556\n",
      "  0.04017338 0.13113702 0.41011101 0.3871916  0.57253197 0.10600704\n",
      "  0.13058128 0.1602411  0.05539602 0.05839754]]\n"
     ]
    }
   ],
   "source": [
    "from sklearn.metrics.pairwise import cosine_similarity\n",
    "\n",
    "# 인덱스만 추출 : cluster_label=1 - 호텔로 군집화된 데이터, \n",
    "hotel_indexes = document_df[document_df['cluster_label']==1].index\n",
    "\n",
    "print('\"호텔\"로 군집화된 문서들의 데이터프레임 인덱스:\\n', hotel_indexes)\n",
    "\n",
    "# 호텔로 클러스터링된 데이터 중 첫번째 문서를 추출하여 파일명 표시.  \n",
    "comparison_docname = document_df.iloc[hotel_indexes[0]]['filename']\n",
    "\n",
    "print('\\n---비교 기준 문서 ',comparison_docname,' 와(과) 타 문서 간 유사도---')\n",
    "\n",
    "#document_df에서 추출한 Index 객체를 feature_vect로 입력하여 호텔 클러스터링된 feature_vect 추출 \n",
    "#이를 이용하여 호텔로 군집화된 문서 중 가장 첫 문서와 타 문서간의 코사인 유사도 측정하는 부분\n",
    "similarity_pair = cosine_similarity(feature_vect[hotel_indexes[0]] , feature_vect[hotel_indexes])\n",
    "\n",
    "print(similarity_pair)"
   ]
  },
  {
   "cell_type": "code",
   "execution_count": 60,
   "metadata": {},
   "outputs": [
    {
     "data": {
      "text/plain": [
       "Text(0.5, 1.0, 'bathroom_bestwestern_hotel_sfo')"
      ]
     },
     "execution_count": 60,
     "metadata": {},
     "output_type": "execute_result"
    },
    {
     "data": {
      "image/png": "[encoded data removed]",
      "text/plain": [
       "<Figure size 432x288 with 1 Axes>"
      ]
     },
     "metadata": {
      "needs_background": "light"
     },
     "output_type": "display_data"
    }
   ],
   "source": [
    "import seaborn as sns # 데이터 분포 시각화 모듈(matplotlib과 유사)\n",
    "import matplotlib.pyplot as plt\n",
    "from matplotlib import font_manager, rc\n",
    "%matplotlib inline\n",
    "\n",
    "# 한글폰트 깨짐방지 : 굴림체\n",
    "font = font_manager.FontProperties(fname = \"c:/Windows/Fonts/gulim.ttc\").get_name()\n",
    "rc('font', family = font)\n",
    "\n",
    "# argsort()를 이용하여 앞예제의 첫번째 문서와 타 문서간 유사도가 큰 순으로 정렬한 인덱스 반환하되 자기 자신은 제외. \n",
    "sorted_index = similarity_pair.argsort()[:,::-1]\n",
    "sorted_index = sorted_index[:, 1:]\n",
    "\n",
    "# 유사도가 큰 순으로 hotel_indexes를 추출하여 재 정렬. \n",
    "hotel_sorted_indexes = hotel_indexes[sorted_index.reshape(-1)]\n",
    "\n",
    "# 유사도가 큰 순으로 유사도 값을 재정렬하되 자기 자신은 제외\n",
    "hotel_1_sim_value = np.sort(similarity_pair.reshape(-1))[::-1]\n",
    "hotel_1_sim_value = hotel_1_sim_value[1:]\n",
    "\n",
    "# 유사도가 큰 순으로 정렬된 Index와 유사도값을 이용하여 파일명과 유사도값을 Seaborn 막대 그래프로 시각화\n",
    "hotel_1_sim_df = pd.DataFrame()\n",
    "hotel_1_sim_df['파일이름'] = document_df.iloc[hotel_sorted_indexes]['filename']\n",
    "hotel_1_sim_df['유사도'] = hotel_1_sim_value\n",
    "\n",
    "sns.barplot(x='유사도', y='파일이름',data=hotel_1_sim_df)\n",
    "plt.title(comparison_docname)"
   ]
  },
  {
   "cell_type": "code",
   "execution_count": null,
   "metadata": {},
   "outputs": [],
   "source": []
  }
 ],
 "metadata": {
  "kernelspec": {
   "display_name": "Python 3",
   "language": "python",
   "name": "python3"
  },
  "language_info": {
   "codemirror_mode": {
    "name": "ipython",
    "version": 3
   },
   "file_extension": ".py",
   "mimetype": "text/x-python",
   "name": "python",
   "nbconvert_exporter": "python",
   "pygments_lexer": "ipython3",
   "version": "3.7.3"
  }
 },
 "nbformat": 4,
 "nbformat_minor": 2
}
