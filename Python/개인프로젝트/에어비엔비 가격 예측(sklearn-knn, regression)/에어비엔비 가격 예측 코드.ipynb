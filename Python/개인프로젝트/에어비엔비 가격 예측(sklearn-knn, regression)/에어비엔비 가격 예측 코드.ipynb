{
 "cells": [
  {
   "cell_type": "markdown",
   "metadata": {},
   "source": [
    "# 과제 : 에어비엔비 가격 예측 튜토리얼 최적 모델 결정\n",
    "  - IT융합대학 컴퓨터공학과, 20134888 임형열\n",
    "  - KNN : 최적 모델의 RMSE 값과 k값, 특징값 조합 구하기\n",
    "  - Linear Regression : 최적모델의 RMSE 값과 특징값 조합 구하기\n",
    "  - RMSE 비교하여 어느 모델이 더 좋은 성능인지 결정\n",
    "  - 최종수정일 2020. 6. 9(화), 5:57PM"
   ]
  },
  {
   "cell_type": "code",
   "execution_count": 1,
   "metadata": {},
   "outputs": [
    {
     "name": "stdout",
     "output_type": "stream",
     "text": [
      "(3720, 19)\n"
     ]
    },
    {
     "data": {
      "text/html": [
       "<div>\n",
       "<style scoped>\n",
       "    .dataframe tbody tr th:only-of-type {\n",
       "        vertical-align: middle;\n",
       "    }\n",
       "\n",
       "    .dataframe tbody tr th {\n",
       "        vertical-align: top;\n",
       "    }\n",
       "\n",
       "    .dataframe thead th {\n",
       "        text-align: right;\n",
       "    }\n",
       "</style>\n",
       "<table border=\"1\" class=\"dataframe\">\n",
       "  <thead>\n",
       "    <tr style=\"text-align: right;\">\n",
       "      <th></th>\n",
       "      <th>host_response_rate</th>\n",
       "      <th>host_acceptance_rate</th>\n",
       "      <th>host_listings_count</th>\n",
       "      <th>accommodates</th>\n",
       "      <th>room_type</th>\n",
       "      <th>bedrooms</th>\n",
       "      <th>bathrooms</th>\n",
       "      <th>beds</th>\n",
       "      <th>price</th>\n",
       "      <th>cleaning_fee</th>\n",
       "      <th>security_deposit</th>\n",
       "      <th>minimum_nights</th>\n",
       "      <th>maximum_nights</th>\n",
       "      <th>number_of_reviews</th>\n",
       "      <th>latitude</th>\n",
       "      <th>longitude</th>\n",
       "      <th>city</th>\n",
       "      <th>zipcode</th>\n",
       "      <th>state</th>\n",
       "    </tr>\n",
       "  </thead>\n",
       "  <tbody>\n",
       "    <tr>\n",
       "      <td>0</td>\n",
       "      <td>92%</td>\n",
       "      <td>91%</td>\n",
       "      <td>26</td>\n",
       "      <td>4</td>\n",
       "      <td>Entire home/apt</td>\n",
       "      <td>1.0</td>\n",
       "      <td>1.0</td>\n",
       "      <td>2</td>\n",
       "      <td>$160.00</td>\n",
       "      <td>$115.00</td>\n",
       "      <td>$100.00</td>\n",
       "      <td>1</td>\n",
       "      <td>1125</td>\n",
       "      <td>0.0</td>\n",
       "      <td>38.890046</td>\n",
       "      <td>-77.0028081</td>\n",
       "      <td>Washington</td>\n",
       "      <td>20003</td>\n",
       "      <td>DC</td>\n",
       "    </tr>\n",
       "    <tr>\n",
       "      <td>1</td>\n",
       "      <td>90%</td>\n",
       "      <td>100%</td>\n",
       "      <td>1</td>\n",
       "      <td>6</td>\n",
       "      <td>Entire home/apt</td>\n",
       "      <td>3.0</td>\n",
       "      <td>3.0</td>\n",
       "      <td>3</td>\n",
       "      <td>$350.00</td>\n",
       "      <td>$100.00</td>\n",
       "      <td>NaN</td>\n",
       "      <td>2</td>\n",
       "      <td>30</td>\n",
       "      <td>65.0</td>\n",
       "      <td>38.880413</td>\n",
       "      <td>-76.99048487</td>\n",
       "      <td>Washington</td>\n",
       "      <td>20003</td>\n",
       "      <td>DC</td>\n",
       "    </tr>\n",
       "    <tr>\n",
       "      <td>2</td>\n",
       "      <td>90%</td>\n",
       "      <td>100%</td>\n",
       "      <td>2</td>\n",
       "      <td>1</td>\n",
       "      <td>Private room</td>\n",
       "      <td>1.0</td>\n",
       "      <td>2.0</td>\n",
       "      <td>1</td>\n",
       "      <td>$50.00</td>\n",
       "      <td>NaN</td>\n",
       "      <td>NaN</td>\n",
       "      <td>2</td>\n",
       "      <td>1125</td>\n",
       "      <td>1.0</td>\n",
       "      <td>38.955291</td>\n",
       "      <td>-76.98600574</td>\n",
       "      <td>Hyattsville</td>\n",
       "      <td>20782</td>\n",
       "      <td>MD</td>\n",
       "    </tr>\n",
       "    <tr>\n",
       "      <td>3</td>\n",
       "      <td>100%</td>\n",
       "      <td>NaN</td>\n",
       "      <td>1</td>\n",
       "      <td>2</td>\n",
       "      <td>Private room</td>\n",
       "      <td>1.0</td>\n",
       "      <td>1.0</td>\n",
       "      <td>1</td>\n",
       "      <td>$95.00</td>\n",
       "      <td>NaN</td>\n",
       "      <td>NaN</td>\n",
       "      <td>1</td>\n",
       "      <td>1125</td>\n",
       "      <td>0.0</td>\n",
       "      <td>38.872134</td>\n",
       "      <td>-77.01963879</td>\n",
       "      <td>Washington</td>\n",
       "      <td>20024</td>\n",
       "      <td>DC</td>\n",
       "    </tr>\n",
       "    <tr>\n",
       "      <td>4</td>\n",
       "      <td>92%</td>\n",
       "      <td>67%</td>\n",
       "      <td>1</td>\n",
       "      <td>4</td>\n",
       "      <td>Entire home/apt</td>\n",
       "      <td>1.0</td>\n",
       "      <td>1.0</td>\n",
       "      <td>1</td>\n",
       "      <td>$50.00</td>\n",
       "      <td>$15.00</td>\n",
       "      <td>$450.00</td>\n",
       "      <td>7</td>\n",
       "      <td>1125</td>\n",
       "      <td>0.0</td>\n",
       "      <td>38.996382</td>\n",
       "      <td>-77.04154101</td>\n",
       "      <td>Silver Spring</td>\n",
       "      <td>20910</td>\n",
       "      <td>MD</td>\n",
       "    </tr>\n",
       "  </tbody>\n",
       "</table>\n",
       "</div>"
      ],
      "text/plain": [
       "  host_response_rate host_acceptance_rate  host_listings_count  accommodates  \\\n",
       "0                92%                  91%                   26             4   \n",
       "1                90%                 100%                    1             6   \n",
       "2                90%                 100%                    2             1   \n",
       "3               100%                  NaN                    1             2   \n",
       "4                92%                  67%                    1             4   \n",
       "\n",
       "         room_type  bedrooms  bathrooms beds     price cleaning_fee  \\\n",
       "0  Entire home/apt       1.0        1.0    2  $160.00      $115.00    \n",
       "1  Entire home/apt       3.0        3.0    3  $350.00      $100.00    \n",
       "2     Private room       1.0        2.0    1   $50.00           NaN   \n",
       "3     Private room       1.0        1.0    1   $95.00           NaN   \n",
       "4  Entire home/apt       1.0        1.0    1   $50.00       $15.00    \n",
       "\n",
       "  security_deposit  minimum_nights maximum_nights  number_of_reviews  \\\n",
       "0         $100.00                1           1125                0.0   \n",
       "1              NaN               2             30               65.0   \n",
       "2              NaN               2           1125                1.0   \n",
       "3              NaN               1           1125                0.0   \n",
       "4         $450.00                7           1125                0.0   \n",
       "\n",
       "    latitude     longitude           city zipcode state  \n",
       "0  38.890046   -77.0028081     Washington   20003    DC  \n",
       "1  38.880413  -76.99048487     Washington   20003    DC  \n",
       "2  38.955291  -76.98600574    Hyattsville   20782    MD  \n",
       "3  38.872134  -77.01963879     Washington   20024    DC  \n",
       "4  38.996382  -77.04154101  Silver Spring   20910    MD  "
      ]
     },
     "execution_count": 1,
     "metadata": {},
     "output_type": "execute_result"
    }
   ],
   "source": [
    "# k-nearest neighbor algorithm(k-최근접 이웃법 알고리즘) 사용\n",
    "# 단순히 가까운 것을 선택하는 것이 아닌 주변의 몇 개(k개)를 보고 가장 많은 것을 골라내는 것\n",
    "\n",
    "import pandas as pd\n",
    "dc_listings = pd.read_csv('dc_airbnb.csv')\n",
    "\n",
    "print(dc_listings.shape) # 약 3720개의 호스팅과 19개의 특징값이 출력됨 : (3720, 19)\n",
    "dc_listings.head()"
   ]
  },
  {
   "cell_type": "code",
   "execution_count": 2,
   "metadata": {},
   "outputs": [
    {
     "name": "stdout",
     "output_type": "stream",
     "text": [
      "1\n"
     ]
    }
   ],
   "source": [
    "# 1단계 : 비교하고 싶은 유사한 목록의 갯수(k)를 무엇으로 할지 결정\n",
    "# 2단계 : 유사도 기준에 따라 우리 데이터와 모든 데이터간 유사도를 계산\n",
    "# 유클리디안 거리, 절댓값\n",
    "\n",
    "import numpy as np\n",
    "our_acc_value = 3 # 숙박 가능한 인원을 최대 3명으로\n",
    " \n",
    "first_living_space_value = dc_listings.loc[0,'accommodates'] # 열과 행. 첫 번째 호텔의 수용인원\n",
    "first_distance = np.abs(int(first_living_space_value) - our_acc_value) # 나와 데이터 간 거리\n",
    "# abs = 절댓값 사용\n",
    "\n",
    "print(first_distance)"
   ]
  },
  {
   "cell_type": "code",
   "execution_count": 3,
   "metadata": {
    "scrolled": true
   },
   "outputs": [
    {
     "data": {
      "text/plain": [
       "0      461\n",
       "1     2290\n",
       "2      504\n",
       "3      279\n",
       "4       35\n",
       "5       73\n",
       "6       17\n",
       "7       22\n",
       "8        7\n",
       "9       12\n",
       "10       2\n",
       "11       4\n",
       "12       6\n",
       "13       8\n",
       "Name: distance, dtype: int64"
      ]
     },
     "execution_count": 3,
     "metadata": {},
     "output_type": "execute_result"
    }
   ],
   "source": [
    "####\n",
    "# str-int 불가능함 - 한 값이 private이라는 str 값으로 존재, 오류발생\n",
    "# 해결방법 : 문자열 있는 행을 삭제 : 다른 데이터 또한 정확하게 기입되어있지 않았으므로\n",
    "#dc_listings['distance'] = np.abs(dc_listings.accommodates - our_acc_value)\n",
    "#dc_listings.distance.value_counts().sort_index()\n",
    "\n",
    "####\n",
    "# 문자열 숫자가 있는것으로 생각, 문자열을 숫자로 바꿔주는 기능을 넣음(to_numeric)\n",
    "# private room을 숫자로 바꿀 수 없다는 오류발생\n",
    "#dc_listings['distance'] = np.abs(dc_listings.accommodates.apply(pd.to_numeric) - our_acc_value)\n",
    "#dc_listings.distance.value_counts().sort_index()\n",
    "\n",
    "# private room 있는 행 삭제\n",
    "dc_listings['distance'] = np.abs(dc_listings.accommodates.apply(pd.to_numeric, errors = 'coerce') - our_acc_value)\n",
    "dc_listings.distance.value_counts().sort_index()\n",
    "# out의 첫 번째 컬럼의 값이 작을수록 우리 데이터와 가깝다는 것을 의미함(ex) 0.0 = 우리 데이터와 같음)"
   ]
  },
  {
   "cell_type": "code",
   "execution_count": 4,
   "metadata": {
    "scrolled": false
   },
   "outputs": [
    {
     "data": {
      "text/plain": [
       "2722     $85.00 \n",
       "950      $99.00 \n",
       "823     $139.00 \n",
       "2162     $58.00 \n",
       "710      $89.00 \n",
       "Name: price, dtype: object"
      ]
     },
     "execution_count": 4,
     "metadata": {},
     "output_type": "execute_result"
    }
   ],
   "source": [
    "# KNN 알고리즘\n",
    "\n",
    "# sample() : 데이터 순서 랜덤하게 선택(셔플)\n",
    "# frac = 1 : 모든 데이터에 대해(셔플할 데이터 갯수)\n",
    "# random_state : 랜덤시드값(랜덤하게 섞는 방법?)\n",
    "dc_listings = dc_listings.sample(frac=1,random_state=0)\n",
    "\n",
    "#거리 기준으로 정렬\n",
    "dc_listings = dc_listings.sort_values('distance')\n",
    "\n",
    "dc_listings.price.head()\n",
    "#dc_listings.price"
   ]
  },
  {
   "cell_type": "code",
   "execution_count": 5,
   "metadata": {},
   "outputs": [
    {
     "data": {
      "text/plain": [
       "94.0"
      ]
     },
     "execution_count": 5,
     "metadata": {},
     "output_type": "execute_result"
    }
   ],
   "source": [
    "# 가격 열의 모든 데이터에 대하여 문자열을 실수형(float)으로 변환 (원래 데이터 타입은 object)\n",
    "# 문자열 내부의 '\\', '$', '|'는 ''로 대체함\n",
    "dc_listings['price'] = dc_listings.price.str.replace(\"\\$|,\",'').astype(float)\n",
    "\n",
    "# iloc[:5] : price열의 상위 5개에 대한 평균 값을 계산\n",
    "mean_price = dc_listings.price.iloc[:5].mean()\n",
    "\n",
    "mean_price"
   ]
  },
  {
   "cell_type": "code",
   "execution_count": 6,
   "metadata": {},
   "outputs": [],
   "source": [
    "# 훈련셋/테스트셋으로 데이터를 분할, 성능 분석\n",
    "\n",
    "dc_listings.drop('distance',axis=1) # axis : 열 갯수를 의미\n",
    "\n",
    "# sklearn(사이킷런)을 쓰지 않고 임의로 훈련 셋과 테스트 셋을 나눔\n",
    "train_df = dc_listings.copy().iloc[:2792] # 약 75%\n",
    "test_df = dc_listings.copy().iloc[2792:] # 약 25%"
   ]
  },
  {
   "cell_type": "code",
   "execution_count": 7,
   "metadata": {},
   "outputs": [],
   "source": [
    "# 두 개의 parameter를 갖는 함수 정의\n",
    "# predict_price(test_df의 accommodate(수용인원), 들어간 수용인원 값이 위치하는 column) \n",
    "def predict_price(new_listing_value,feature_column):\n",
    "    temp_df = train_df\n",
    "    #temp_df['distance'] = np.abs(dc_listings[feature_column] - new_listing_value)\n",
    "    #temp_df['distance'] = np.abs(temp_df[feature_column] - new_listing_value)\n",
    "    temp_df['distance'] = np.abs(temp_df[feature_column].apply(pd.to_numeric, errors = 'coerce') - new_listing_value)\n",
    "    \n",
    "    # 거리순으로 정렬(가장 가까운 것이 최상위로)\n",
    "    temp_df = temp_df.sort_values('distance')\n",
    "    \n",
    "    # 상위 5개에 대한 평균 값을 계산\n",
    "    knn_5 = temp_df.price.iloc[:5]\n",
    "    predicted_price = knn_5.mean()\n",
    "    \n",
    "    return(predicted_price)"
   ]
  },
  {
   "cell_type": "code",
   "execution_count": 8,
   "metadata": {},
   "outputs": [
    {
     "data": {
      "text/plain": [
       "2214     72.0\n",
       "1589     72.0\n",
       "437      72.0\n",
       "1198     72.0\n",
       "3492    375.6\n",
       "        ...  \n",
       "611     375.6\n",
       "763     375.6\n",
       "1818    375.6\n",
       "1596    375.6\n",
       "1594    375.6\n",
       "Name: predicted_price, Length: 928, dtype: float64"
      ]
     },
     "execution_count": 8,
     "metadata": {},
     "output_type": "execute_result"
    }
   ],
   "source": [
    "# 함수 실행 : 모든 값에 대한 예측(각 숙박시설에 대한 예측값)\n",
    "test_df['predicted_price'] = test_df.accommodates.apply(predict_price,feature_column='accommodates')\n",
    "#test_df['predicted_price'] = test_df.bedrooms.apply(predict_price,feature_column='bedrooms')\n",
    "test_df['predicted_price']"
   ]
  },
  {
   "cell_type": "code",
   "execution_count": 9,
   "metadata": {},
   "outputs": [
    {
     "data": {
      "text/plain": [
       "221.51181675532257"
      ]
     },
     "execution_count": 9,
     "metadata": {},
     "output_type": "execute_result"
    }
   ],
   "source": [
    "# RMSE 계산(root mean square error) : (예측값과 실제값의 차이)^2의 평균 - 루트 씌우기\n",
    "# 이상치에 가까울수록 0에 근접\n",
    "# 수치가 비정상적으로 클 경우 비정상적인 데이터모델(특징값)\n",
    "# 혹은 비정상적인 알고리즘을 사용하지는 않았는지 확인해야 함\n",
    "\n",
    "# accommodate에 대한 편차 : 218(상당히 큼) - 모델이 정확하지 않음, 사용한 특징값이 적절하지 않음\n",
    "\n",
    "test_df['squared_error'] = (test_df['predicted_price'] - test_df['price'])**(2)\n",
    "\n",
    "mse = test_df['squared_error'].mean()\n",
    "rmse = mse ** (1/2)\n",
    "\n",
    "rmse"
   ]
  },
  {
   "cell_type": "code",
   "execution_count": 10,
   "metadata": {
    "scrolled": false
   },
   "outputs": [
    {
     "name": "stdout",
     "output_type": "stream",
     "text": [
      "RMSE for the accommodates column: 221.51181675532257\n",
      "RMSE for the bedrooms column: 208.99357076560838\n",
      "RMSE for the bathrooms column: 227.55820849274423\n",
      "RMSE for the number_of_reviews column: 241.35586281150165\n"
     ]
    }
   ],
   "source": [
    "# 각각의 특징값에 대한 RMSE를 계산하는 부분\n",
    "# 수치(편차)가 작을수록 좋음\n",
    "# 오류 발생(문자열을 숫자형으로 바꿀 수 없음) : csv 파일을 열어서 확인한 결과 3283열에 이상한 값 들어가있음, 삭제\n",
    "\n",
    "for feature in ['accommodates','bedrooms','bathrooms','number_of_reviews']:\n",
    "\n",
    "    #test_df['predicted_price'] = test_df.accommodates.apply(predict_price,feature_column=feature)\n",
    "    test_df['predicted_price'] = test_df[feature].apply(predict_price,feature_column=feature)\n",
    "    test_df['squared_error'] = (test_df['predicted_price'] - test_df['price'])**(2)\n",
    "    \n",
    "    mse = test_df['squared_error'].mean()\n",
    "    rmse = mse ** (1/2)\n",
    "    \n",
    "    print(\"RMSE for the {} column: {}\".format(feature,rmse)) # 각각의 특징값에 대한 RMSE값 출력"
   ]
  },
  {
   "cell_type": "markdown",
   "metadata": {},
   "source": [
    "# 정규화 된 파일 로드 후 분석\n",
    "\n",
    "- 훈련 셋/테스트 셋 구분"
   ]
  },
  {
   "cell_type": "code",
   "execution_count": 11,
   "metadata": {},
   "outputs": [
    {
     "name": "stdout",
     "output_type": "stream",
     "text": [
      "(3666, 8)\n"
     ]
    },
    {
     "data": {
      "text/html": [
       "<div>\n",
       "<style scoped>\n",
       "    .dataframe tbody tr th:only-of-type {\n",
       "        vertical-align: middle;\n",
       "    }\n",
       "\n",
       "    .dataframe tbody tr th {\n",
       "        vertical-align: top;\n",
       "    }\n",
       "\n",
       "    .dataframe thead th {\n",
       "        text-align: right;\n",
       "    }\n",
       "</style>\n",
       "<table border=\"1\" class=\"dataframe\">\n",
       "  <thead>\n",
       "    <tr style=\"text-align: right;\">\n",
       "      <th></th>\n",
       "      <th>accommodates</th>\n",
       "      <th>bedrooms</th>\n",
       "      <th>bathrooms</th>\n",
       "      <th>beds</th>\n",
       "      <th>price</th>\n",
       "      <th>minimum_nights</th>\n",
       "      <th>maximum_nights</th>\n",
       "      <th>number_of_reviews</th>\n",
       "    </tr>\n",
       "  </thead>\n",
       "  <tbody>\n",
       "    <tr>\n",
       "      <td>0</td>\n",
       "      <td>0.400809</td>\n",
       "      <td>-0.249151</td>\n",
       "      <td>-0.439068</td>\n",
       "      <td>0.297181</td>\n",
       "      <td>160</td>\n",
       "      <td>-0.341333</td>\n",
       "      <td>-0.016584</td>\n",
       "      <td>-0.516903</td>\n",
       "    </tr>\n",
       "    <tr>\n",
       "      <td>1</td>\n",
       "      <td>1.398342</td>\n",
       "      <td>2.129464</td>\n",
       "      <td>2.969348</td>\n",
       "      <td>1.141072</td>\n",
       "      <td>350</td>\n",
       "      <td>-0.065163</td>\n",
       "      <td>-0.016615</td>\n",
       "      <td>1.705150</td>\n",
       "    </tr>\n",
       "    <tr>\n",
       "      <td>2</td>\n",
       "      <td>-1.095491</td>\n",
       "      <td>-0.249151</td>\n",
       "      <td>1.265140</td>\n",
       "      <td>-0.546711</td>\n",
       "      <td>50</td>\n",
       "      <td>-0.065163</td>\n",
       "      <td>-0.016584</td>\n",
       "      <td>-0.482718</td>\n",
       "    </tr>\n",
       "    <tr>\n",
       "      <td>3</td>\n",
       "      <td>-0.596724</td>\n",
       "      <td>-0.249151</td>\n",
       "      <td>-0.439068</td>\n",
       "      <td>-0.546711</td>\n",
       "      <td>95</td>\n",
       "      <td>-0.341333</td>\n",
       "      <td>-0.016584</td>\n",
       "      <td>-0.516903</td>\n",
       "    </tr>\n",
       "    <tr>\n",
       "      <td>4</td>\n",
       "      <td>0.400809</td>\n",
       "      <td>-0.249151</td>\n",
       "      <td>-0.439068</td>\n",
       "      <td>-0.546711</td>\n",
       "      <td>50</td>\n",
       "      <td>1.315689</td>\n",
       "      <td>-0.016584</td>\n",
       "      <td>-0.516903</td>\n",
       "    </tr>\n",
       "  </tbody>\n",
       "</table>\n",
       "</div>"
      ],
      "text/plain": [
       "   accommodates  bedrooms  bathrooms      beds  price  minimum_nights  \\\n",
       "0      0.400809 -0.249151  -0.439068  0.297181    160       -0.341333   \n",
       "1      1.398342  2.129464   2.969348  1.141072    350       -0.065163   \n",
       "2     -1.095491 -0.249151   1.265140 -0.546711     50       -0.065163   \n",
       "3     -0.596724 -0.249151  -0.439068 -0.546711     95       -0.341333   \n",
       "4      0.400809 -0.249151  -0.439068 -0.546711     50        1.315689   \n",
       "\n",
       "   maximum_nights  number_of_reviews  \n",
       "0       -0.016584          -0.516903  \n",
       "1       -0.016615           1.705150  \n",
       "2       -0.016584          -0.482718  \n",
       "3       -0.016584          -0.516903  \n",
       "4       -0.016584          -0.516903  "
      ]
     },
     "execution_count": 11,
     "metadata": {},
     "output_type": "execute_result"
    }
   ],
   "source": [
    "normalized_listings = pd.read_csv('dc_airbnb.normalized.3.csv')\n",
    "\n",
    "print(normalized_listings.shape) # 행과 열 갯수 출력 : 3666행, 8열\n",
    "normalized_listings.head() # 파일의 위에서부터 5번째 부분까지 출력(기본값 5개)"
   ]
  },
  {
   "cell_type": "code",
   "execution_count": 12,
   "metadata": {},
   "outputs": [],
   "source": [
    "# KNN 알고리즘\n",
    "\n",
    "# sample() : 데이터 순서 랜덤하게 선택(셔플)\n",
    "# frac = 1 : 모든 데이터에 대해(셔플할 데이터 갯수)\n",
    "# random_state : 랜덤시드값(랜덤하게 섞는 방법)\n",
    "normalized_listings = normalized_listings.sample(frac=1,random_state=0)\n",
    "\n",
    "# 훈련 셋과 테스트 셋을 구분\n",
    "norm_train_df = normalized_listings.copy().iloc[0:2750] # 약 75%\n",
    "norm_test_df = normalized_listings.copy().iloc[2750:] # 약 25%"
   ]
  },
  {
   "cell_type": "code",
   "execution_count": 13,
   "metadata": {},
   "outputs": [
    {
     "data": {
      "text/plain": [
       "1.9950665769999998"
      ]
     },
     "execution_count": 13,
     "metadata": {},
     "output_type": "execute_result"
    }
   ],
   "source": [
    "from scipy.spatial import distance # scipy의 distance 모듈 import, 우리 데이터와의 거리(가까움/멀음 여부) 판단\n",
    "\n",
    "# iloc[0], [1] - 0번째와 1번째 선택\n",
    "first_listing = normalized_listings.iloc[0][['accommodates', 'bathrooms']]\n",
    "fifth_listing = normalized_listings.iloc[1][['accommodates', 'bathrooms']]\n",
    "\n",
    "# distance의 유클리디안 거리(2개의 데이터에 대한)\n",
    "first_fifth_distance = distance.euclidean(first_listing, fifth_listing)\n",
    "\n",
    "first_fifth_distance"
   ]
  },
  {
   "cell_type": "code",
   "execution_count": 14,
   "metadata": {},
   "outputs": [],
   "source": [
    "# 두 개의 parameter를 갖는 함수 정의\n",
    "# predict_price(test_df의 accommodate(수용인원), 들어간 수용인원 값이 위치하는 column) \n",
    "def predict_price_multivariate(new_listing_value,feature_columns):\n",
    "    temp_df = norm_train_df\n",
    "    temp_df['distance'] = distance.cdist(temp_df[feature_columns], [new_listing_value[feature_columns]])\n",
    "\n",
    "    # 거리순으로 정렬(가장 가까운 것이 최상위로)\n",
    "    temp_df = temp_df.sort_values('distance')\n",
    "    \n",
    "    # 상위 5개에 대한 평균 값을 계산\n",
    "    knn_5 = temp_df.price.iloc[:5]\n",
    "    predicted_price = knn_5.mean()\n",
    "    \n",
    "    return(predicted_price)"
   ]
  },
  {
   "cell_type": "code",
   "execution_count": 15,
   "metadata": {},
   "outputs": [
    {
     "name": "stdout",
     "output_type": "stream",
     "text": [
      "97.26698255418684\n"
     ]
    }
   ],
   "source": [
    "#MSE - RMSE 계산\n",
    "cols = ['accommodates', 'bathrooms']\n",
    "\n",
    "norm_test_df['predicted_price'] = norm_test_df[cols].apply(predict_price_multivariate, feature_columns=cols,axis=1)\n",
    "norm_test_df['squared_error'] = (norm_test_df['predicted_price'] - norm_test_df['price'])**(2)\n",
    "\n",
    "mse = norm_test_df['squared_error'].mean()\n",
    "rmse = mse ** (1/2)\n",
    "\n",
    "print(rmse)"
   ]
  },
  {
   "cell_type": "code",
   "execution_count": 16,
   "metadata": {},
   "outputs": [],
   "source": [
    "# 사이킷런으로 KNN 알고리즘 사용\n",
    "\n",
    "from sklearn.neighbors import KNeighborsRegressor\n",
    "#knn = KNeighborsRegressor()\n",
    "\n",
    "# algorithm 속성값\n",
    "knn = KNeighborsRegressor(algorithm='brute')"
   ]
  },
  {
   "cell_type": "code",
   "execution_count": 17,
   "metadata": {
    "scrolled": true
   },
   "outputs": [
    {
     "data": {
      "text/plain": [
       "KNeighborsRegressor(algorithm='brute', leaf_size=30, metric='minkowski',\n",
       "                    metric_params=None, n_jobs=None, n_neighbors=5, p=2,\n",
       "                    weights='uniform')"
      ]
     },
     "execution_count": 17,
     "metadata": {},
     "output_type": "execute_result"
    }
   ],
   "source": [
    "# 훈련 특징값, 타겟(예측하고자 하는)\n",
    "train_features = ['accommodates', 'bathrooms']\n",
    "train_target = 'price'\n",
    "\n",
    "knn.fit(norm_train_df[train_features], norm_train_df[train_target])"
   ]
  },
  {
   "cell_type": "code",
   "execution_count": 18,
   "metadata": {},
   "outputs": [],
   "source": [
    "# 테스트 특징값\n",
    "test_features = ['accommodates', 'bathrooms']\n",
    "\n",
    "# 테스트 특징값으로 KNN 알고리즘을 활용, 가격 예측\n",
    "two_features_predictions = knn.predict(norm_test_df[test_features])"
   ]
  },
  {
   "cell_type": "code",
   "execution_count": 19,
   "metadata": {},
   "outputs": [
    {
     "name": "stdout",
     "output_type": "stream",
     "text": [
      "90.92265680044032\n"
     ]
    }
   ],
   "source": [
    "# MSE import\n",
    "from sklearn.metrics import mean_squared_error\n",
    "\n",
    "# 여러가지 특징값에 대한 RMSE 계산 : 2가지 특징값\n",
    "two_features_mse = mean_squared_error(norm_test_df['price'], two_features_predictions)\n",
    "two_features_rmse = two_features_mse ** (1/2)\n",
    "\n",
    "print(two_features_rmse)"
   ]
  },
  {
   "cell_type": "code",
   "execution_count": 20,
   "metadata": {},
   "outputs": [
    {
     "name": "stdout",
     "output_type": "stream",
     "text": [
      "92.92935500601551\n"
     ]
    }
   ],
   "source": [
    "#knn = KNeighborsRegressor(algorithm='brute')\n",
    "cols = ['accommodates','bedrooms','bathrooms','beds']\n",
    "\n",
    "knn.fit(norm_train_df[cols], norm_train_df['price'])\n",
    "\n",
    "four_features_predictions = knn.predict(norm_test_df[cols])\n",
    "\n",
    "# 여러가지 특징값에 대한 RMSE 계산 : 4가지 특징값\n",
    "four_features_mse = mean_squared_error(norm_test_df['price'], four_features_predictions)\n",
    "four_features_rmse = four_features_mse ** (1/2)\n",
    "\n",
    "print(four_features_rmse)"
   ]
  },
  {
   "cell_type": "markdown",
   "metadata": {},
   "source": [
    "# 최적 모델 결정을 위한 함수 선언\n",
    "\n",
    "- 1개의 특징값만 사용하는 경우 : predict_price(parameter1, parameter2)\n",
    "- 2개 이상의 특징값을 사용하는 경우 : predict_price_multivariate(parameter1, parameter2)"
   ]
  },
  {
   "cell_type": "code",
   "execution_count": 21,
   "metadata": {},
   "outputs": [],
   "source": [
    "##### 함수 정의 : 1개의 특징값을 선택해서 사용할 경우 이용 #####\n",
    "# k = {1, 3, 5} 중 하나의 값을 가지는 것으로 한정\n",
    "\n",
    "k = 1 # k값\n",
    "#k = [1, 3, 5]\n",
    "\n",
    "def predict_price(new_listing_value,feature_column):\n",
    "    temp_df = train_df\n",
    "    temp_df['distance'] = np.abs(temp_df[feature_column].apply(pd.to_numeric, errors = 'coerce') - new_listing_value)\n",
    "    \n",
    "    # 거리순으로 정렬(가장 가까운 것이 최상위로)\n",
    "    temp_df = temp_df.sort_values('distance')\n",
    "    \n",
    "    # 상위 k개에 대한 평균 값을 계산\n",
    "    knn_value = temp_df.price.iloc[:k]\n",
    "    predicted_price = knn_value.mean()\n",
    "    \n",
    "    return(predicted_price)"
   ]
  },
  {
   "cell_type": "code",
   "execution_count": 22,
   "metadata": {},
   "outputs": [],
   "source": [
    "##### 함수 정의 : 2개 이상의 특징값을 선택해서 사용할 경우 이용 #####\n",
    "# k = {1, 3, 5} 중 하나의 값을 가지는 것으로 한정\n",
    "\n",
    "multik = 1 # k값\n",
    "#multik = [1, 3, 5]\n",
    "\n",
    "def predict_price_multivariate(new_listing_value,feature_columns):\n",
    "    temp_df = norm_train_df\n",
    "    temp_df['distance'] = distance.cdist(temp_df[feature_columns], [new_listing_value[feature_columns]])\n",
    "\n",
    "    # 거리순으로 정렬(가장 가까운 것이 최상위로)\n",
    "    temp_df = temp_df.sort_values('distance')\n",
    "    \n",
    "    # 상위 multik개에 대한 평균 값을 계산\n",
    "    knn_value = temp_df.price.iloc[:multik]\n",
    "    predicted_price = knn_value.mean()\n",
    "    \n",
    "    return(predicted_price)"
   ]
  },
  {
   "cell_type": "code",
   "execution_count": 23,
   "metadata": {},
   "outputs": [
    {
     "name": "stdout",
     "output_type": "stream",
     "text": [
      "k값이 [1]일때, [accommodates] 특징값으로 산출한 RMSE : 211.34247782733203\n",
      "k값이 [1]일때, [bedrooms] 특징값으로 산출한 RMSE : 197.34502064576785\n",
      "k값이 [1]일때, [bathrooms] 특징값으로 산출한 RMSE : 244.51065103217266\n",
      "k값이 [1]일때, [number_of_reviews] 특징값으로 산출한 RMSE : 237.49421159130242\n",
      "k값이 [3]일때, [accommodates] 특징값으로 산출한 RMSE : 208.00742058652102\n",
      "k값이 [3]일때, [bedrooms] 특징값으로 산출한 RMSE : 209.06243078095522\n",
      "k값이 [3]일때, [bathrooms] 특징값으로 산출한 RMSE : 228.91157473903004\n",
      "k값이 [3]일때, [number_of_reviews] 특징값으로 산출한 RMSE : 237.44013395387486\n",
      "k값이 [5]일때, [accommodates] 특징값으로 산출한 RMSE : 221.51181675532257\n",
      "k값이 [5]일때, [bedrooms] 특징값으로 산출한 RMSE : 208.99357076560838\n",
      "k값이 [5]일때, [bathrooms] 특징값으로 산출한 RMSE : 227.55820849274423\n",
      "k값이 [5]일때, [number_of_reviews] 특징값으로 산출한 RMSE : 241.35586281150165\n"
     ]
    }
   ],
   "source": [
    "### 1개의 특징값을 선택해서 사용할 경우 : 12가지(4가지 조합X3가지 k값)의 RSME 계산\n",
    "\n",
    "for i in range(3) :\n",
    "    for feature in ['accommodates','bedrooms','bathrooms','number_of_reviews']:\n",
    "    \n",
    "        #test_df['predicted_price'] = test_df.accommodates.apply(predict_price,feature_column=feature)\n",
    "        test_df['predicted_price'] = test_df[feature].apply(predict_price,feature_column=feature)\n",
    "        test_df['squared_error'] = (test_df['predicted_price'] - test_df['price'])**(2)\n",
    "    \n",
    "        mse = test_df['squared_error'].mean()\n",
    "        rmse = mse ** (1/2)\n",
    "    \n",
    "        print(\"k값이 \" + '[' + str(k) + ']' + \"일때, [{}] 특징값으로 산출한 RMSE : {}\".format(feature,rmse)) # 각각의 특징값에 대한 RMSE값 출력 \n",
    "    \n",
    "    k += 2\n",
    "    \n",
    "    if (k > 5) :\n",
    "        k = 1\n"
   ]
  },
  {
   "cell_type": "code",
   "execution_count": 24,
   "metadata": {},
   "outputs": [
    {
     "name": "stdout",
     "output_type": "stream",
     "text": [
      "k값이 [1]일때, ['accommodates', 'bedrooms'] 특징값으로 산출한 RMSE : 112.94650354816416\n",
      "k값이 [1]일때, ['accommodates', 'bathrooms'] 특징값으로 산출한 RMSE : 111.77710001308965\n",
      "k값이 [1]일때, ['accommodates', 'number_of_reviews'] 특징값으로 산출한 RMSE : 121.21624817226731\n",
      "k값이 [1]일때, ['bedrooms', 'bathrooms'] 특징값으로 산출한 RMSE : 112.36360484749117\n",
      "k값이 [1]일때, ['bedrooms', 'number_of_reviews'] 특징값으로 산출한 RMSE : 109.8702688743991\n",
      "k값이 [1]일때, ['bathrooms', 'number_of_reviews'] 특징값으로 산출한 RMSE : 206.54291295232014\n",
      "k값이 [3]일때, ['accommodates', 'bedrooms'] 특징값으로 산출한 RMSE : 95.76907724941908\n",
      "k값이 [3]일때, ['accommodates', 'bathrooms'] 특징값으로 산출한 RMSE : 98.26592192584337\n",
      "k값이 [3]일때, ['accommodates', 'number_of_reviews'] 특징값으로 산출한 RMSE : 108.79981416950494\n",
      "k값이 [3]일때, ['bedrooms', 'bathrooms'] 특징값으로 산출한 RMSE : 88.02332241340815\n",
      "k값이 [3]일때, ['bedrooms', 'number_of_reviews'] 특징값으로 산출한 RMSE : 120.260240616221\n",
      "k값이 [3]일때, ['bathrooms', 'number_of_reviews'] 특징값으로 산출한 RMSE : 197.7652463742288\n",
      "k값이 [5]일때, ['accommodates', 'bedrooms'] 특징값으로 산출한 RMSE : 91.39254267113449\n",
      "k값이 [5]일때, ['accommodates', 'bathrooms'] 특징값으로 산출한 RMSE : 97.26698255418684\n",
      "k값이 [5]일때, ['accommodates', 'number_of_reviews'] 특징값으로 산출한 RMSE : 99.09233861430667\n",
      "k값이 [5]일때, ['bedrooms', 'bathrooms'] 특징값으로 산출한 RMSE : 85.99106229579832\n",
      "k값이 [5]일때, ['bedrooms', 'number_of_reviews'] 특징값으로 산출한 RMSE : 105.53393481425736\n",
      "k값이 [5]일때, ['bathrooms', 'number_of_reviews'] 특징값으로 산출한 RMSE : 166.03591169924422\n"
     ]
    }
   ],
   "source": [
    "### 2개의 특징값을 선택해서 사용할 경우 : 18가지(6가지 조합X3가지 k값)의 RSME 계산\n",
    "\n",
    "cols1 = ['accommodates', 'bedrooms'] \n",
    "cols2 = ['accommodates', 'bathrooms']\n",
    "cols3 = ['accommodates', 'number_of_reviews']\n",
    "cols4 = ['bedrooms', 'bathrooms']\n",
    "cols5 = ['bedrooms', 'number_of_reviews']        \n",
    "cols6 = ['bathrooms', 'number_of_reviews']\n",
    "\n",
    "multicols = [cols1, cols2, cols3, cols4, cols5, cols6]\n",
    "\n",
    "for j in range(multik, 4) : \n",
    "    for i in multicols : \n",
    "        norm_test_df['predicted_price'] = norm_test_df[i].apply(predict_price_multivariate, feature_columns=i,axis=1)\n",
    "        norm_test_df['squared_error'] = (norm_test_df['predicted_price'] - norm_test_df['price'])**(2)\n",
    "\n",
    "        mse = norm_test_df['squared_error'].mean()\n",
    "        rmse = mse ** (1/2)\n",
    "\n",
    "        print(\"k값이 \" + '[' + str(multik) + ']' + \"일때, {} 특징값으로 산출한 RMSE : {}\".format(i,rmse)) # 각각의 특징값에 대한 RMSE값 출력 \n",
    "         \n",
    "    multik += 2\n",
    "    \n",
    "    if (multik > 5) :\n",
    "        multik = 1"
   ]
  },
  {
   "cell_type": "code",
   "execution_count": 25,
   "metadata": {},
   "outputs": [
    {
     "name": "stdout",
     "output_type": "stream",
     "text": [
      "k값이 [1]일때, ['accommodates', 'bedrooms', 'bathrooms'] 특징값으로 산출한 RMSE : 99.3297571477039\n",
      "k값이 [1]일때, ['accommodates', 'bedrooms', 'number_of_reviews'] 특징값으로 산출한 RMSE : 117.97851092169842\n",
      "k값이 [1]일때, ['accommodates', 'bathrooms', 'number_of_reviews'] 특징값으로 산출한 RMSE : 111.63251177676474\n",
      "k값이 [1]일때, ['bedrooms', 'bathrooms', 'number_of_reviews'] 특징값으로 산출한 RMSE : 96.64849312176277\n",
      "k값이 [3]일때, ['accommodates', 'bedrooms', 'bathrooms'] 특징값으로 산출한 RMSE : 101.38111340513298\n",
      "k값이 [3]일때, ['accommodates', 'bedrooms', 'number_of_reviews'] 특징값으로 산출한 RMSE : 92.78413289893304\n",
      "k값이 [3]일때, ['accommodates', 'bathrooms', 'number_of_reviews'] 특징값으로 산출한 RMSE : 100.9839678668498\n",
      "k값이 [3]일때, ['bedrooms', 'bathrooms', 'number_of_reviews'] 특징값으로 산출한 RMSE : 86.62125251735783\n",
      "k값이 [5]일때, ['accommodates', 'bedrooms', 'bathrooms'] 특징값으로 산출한 RMSE : 91.27135246976142\n",
      "k값이 [5]일때, ['accommodates', 'bedrooms', 'number_of_reviews'] 특징값으로 산출한 RMSE : 91.79599938005697\n",
      "k값이 [5]일때, ['accommodates', 'bathrooms', 'number_of_reviews'] 특징값으로 산출한 RMSE : 94.99248189051866\n",
      "k값이 [5]일때, ['bedrooms', 'bathrooms', 'number_of_reviews'] 특징값으로 산출한 RMSE : 89.68672843649664\n"
     ]
    }
   ],
   "source": [
    "### 3개의 특징값을 선택해서 사용할 경우 : 12가지(4가지 조합X3가지 k값)의 RSME 계산\n",
    "\n",
    "cols1 = ['accommodates', 'bedrooms', 'bathrooms'] \n",
    "cols2 = ['accommodates', 'bedrooms', 'number_of_reviews']\n",
    "cols3 = ['accommodates', 'bathrooms', 'number_of_reviews']\n",
    "cols4 = ['bedrooms', 'bathrooms', 'number_of_reviews']\n",
    "\n",
    "multicols = [cols1, cols2, cols3, cols4]\n",
    "\n",
    "for j in range(multik, 4) : \n",
    "    for i in multicols : \n",
    "        norm_test_df['predicted_price'] = norm_test_df[i].apply(predict_price_multivariate, feature_columns=i,axis=1)\n",
    "        norm_test_df['squared_error'] = (norm_test_df['predicted_price'] - norm_test_df['price'])**(2)\n",
    "\n",
    "        mse = norm_test_df['squared_error'].mean()\n",
    "        rmse = mse ** (1/2)\n",
    "\n",
    "        print(\"k값이 \" + '[' + str(multik) + ']' + \"일때, {} 특징값으로 산출한 RMSE : {}\".format(i,rmse)) # 각각의 특징값에 대한 RMSE값 출력 \n",
    "         \n",
    "    multik += 2\n",
    "    \n",
    "    if (multik > 5) :\n",
    "        multik = 1"
   ]
  },
  {
   "cell_type": "code",
   "execution_count": 26,
   "metadata": {},
   "outputs": [
    {
     "name": "stdout",
     "output_type": "stream",
     "text": [
      "k값이 [1]일때, ['accommodates', 'bedrooms', 'bathrooms', 'number_of_reviews'] 특징값으로 산출한 RMSE : 116.75719403136837\n",
      "k값이 [3]일때, ['accommodates', 'bedrooms', 'bathrooms', 'number_of_reviews'] 특징값으로 산출한 RMSE : 97.261489332276\n",
      "k값이 [5]일때, ['accommodates', 'bedrooms', 'bathrooms', 'number_of_reviews'] 특징값으로 산출한 RMSE : 93.64871856615534\n"
     ]
    }
   ],
   "source": [
    "### 4개의 특징값을 선택해서 사용할 경우 : 3가지(1가지 조합X3가지 k값)의 RSME 계산\n",
    "\n",
    "cols1 = ['accommodates', 'bedrooms', 'bathrooms', 'number_of_reviews']\n",
    "\n",
    "for j in range(multik, 4) : \n",
    "    norm_test_df['predicted_price'] = norm_test_df[cols1].apply(predict_price_multivariate, feature_columns=cols1,axis=1)\n",
    "    norm_test_df['squared_error'] = (norm_test_df['predicted_price'] - norm_test_df['price'])**(2)\n",
    "\n",
    "    mse = norm_test_df['squared_error'].mean()\n",
    "    rmse = mse ** (1/2)\n",
    "\n",
    "    print(\"k값이 \" + '[' + str(multik) + ']' + \"일때, {} 특징값으로 산출한 RMSE : {}\".format(cols1,rmse)) # 각각의 특징값에 대한 RMSE값 출력 \n",
    "         \n",
    "    multik += 2\n",
    "    \n",
    "    if (multik > 5) :\n",
    "        multik = 1"
   ]
  },
  {
   "cell_type": "markdown",
   "metadata": {},
   "source": [
    "\n",
    "# 최적 모델 결정(선형회귀)"
   ]
  },
  {
   "cell_type": "code",
   "execution_count": 27,
   "metadata": {},
   "outputs": [],
   "source": [
    "from sklearn.linear_model import LinearRegression # 사이킷런에서 선형회귀 모듈 import\n",
    "from sklearn.metrics import mean_squared_error # 사이킷런에서 MSE(mean_squared_error) 모듈 import "
   ]
  },
  {
   "cell_type": "code",
   "execution_count": 35,
   "metadata": {
    "scrolled": false
   },
   "outputs": [
    {
     "name": "stdout",
     "output_type": "stream",
     "text": [
      "accommodates 특징값으로 산출한 RMSE : 95.48246420254932\n",
      "bedrooms 특징값으로 산출한 RMSE : 90.7456267465956\n",
      "bathrooms 특징값으로 산출한 RMSE : 94.88266044114705\n",
      "number_of_reviews 특징값으로 산출한 RMSE : 113.1974652557283\n"
     ]
    }
   ],
   "source": [
    "# 훈련 셋과 테스트 셋을 구분 : 위의 코드에서 이미 실행하였으므로 주석처리함\n",
    "#norm_train_df = normalized_listings.copy().iloc[0:2750] # 약 75%\n",
    "#norm_test_df = normalized_listings.copy().iloc[2750:] # 약 25%\n",
    "\n",
    "# 특징값 1개를 사용하여 RMSE 산출\n",
    "\n",
    "train_target = 'price'\n",
    "\n",
    "col = ['accommodates', 'bedrooms', 'bathrooms', 'number_of_reviews']\n",
    "\n",
    "for i in col :\n",
    "    linear = LinearRegression() # 선형회귀 사용\n",
    "    # 모델 훈련 : coef_(기울기), intercept_(절편값) 전달\n",
    "    # 독립변수 x에 대한 y의 값(상관성) 분석\n",
    "    # 독립변수 x는 2차원 배열 형태여야 함 : 1가지 특징값만 사용할 경우 reshape(-1,1) 사용\n",
    "    # np.array()형태로 데이터프레임의 특징값 형태 변환 후 reshape() 사용\n",
    "    linear.fit(np.array(norm_train_df[i]).reshape(-1,1), norm_train_df[train_target]) # x는 독립변수, y는 종속변수\n",
    "    \n",
    "    # 어떠한 변수를 넣었을때 어느정도의 y값이 나올지? : 예측하는 부분\n",
    "    # 해당 부분과 실제 존재하는(따로 테스트용 데이터로 뺀 25% 부분)의 차이(절댓값)가 rmse \n",
    "    predictions = linear.predict(np.array(norm_test_df[i]).reshape(-1,1))\n",
    "    \n",
    "    mse = mean_squared_error(norm_test_df[train_target], predictions)\n",
    "    rmse = mse ** (1/2)\n",
    "\n",
    "    print(\"{} 특징값으로 산출한 RMSE : {}\".format(i,rmse)) # 각각의 특징값에 대한 RMSE값 출력     "
   ]
  },
  {
   "cell_type": "code",
   "execution_count": 36,
   "metadata": {},
   "outputs": [
    {
     "name": "stdout",
     "output_type": "stream",
     "text": [
      "['accommodates', 'bedrooms'] 특징값으로 산출한 RMSE : 89.42159100332559\n",
      "['accommodates', 'bathrooms'] 특징값으로 산출한 RMSE : 88.72079063256996\n",
      "['accommodates', 'number_of_reviews'] 특징값으로 산출한 RMSE : 95.02359364162102\n",
      "['bedrooms', 'bathrooms'] 특징값으로 산출한 RMSE : 88.2320634292745\n",
      "['bedrooms', 'number_of_reviews'] 특징값으로 산출한 RMSE : 90.67999577173926\n",
      "['bathrooms', 'number_of_reviews'] 특징값으로 산출한 RMSE : 94.58388843541442\n"
     ]
    }
   ],
   "source": [
    "# 훈련 셋과 테스트 셋을 구분 : 위의 코드에서 이미 실행하였으므로 주석처리함\n",
    "#norm_train_df = normalized_listings.copy().iloc[0:2750] # 약 75%\n",
    "#norm_test_df = normalized_listings.copy().iloc[2750:] # 약 25%\n",
    "\n",
    "# 특징값 2개를 동시에 사용하여 RMSE 산출\n",
    "\n",
    "train_target = 'price'\n",
    "\n",
    "cols1 = ['accommodates', 'bedrooms'] \n",
    "cols2 = ['accommodates', 'bathrooms']\n",
    "cols3 = ['accommodates', 'number_of_reviews']\n",
    "cols4 = ['bedrooms', 'bathrooms']\n",
    "cols5 = ['bedrooms', 'number_of_reviews']        \n",
    "cols6 = ['bathrooms', 'number_of_reviews']\n",
    "\n",
    "multicols = [cols1, cols2, cols3, cols4, cols5, cols6]\n",
    " \n",
    "for i in multicols : \n",
    "    linear = LinearRegression() # 선형회귀 사용\n",
    "    # 모델 훈련 : coef_(기울기), intercept_(절편값) 전달\n",
    "    # 독립변수 x에 대한 y의 값(상관성) 분석\n",
    "    linear.fit(norm_train_df[i], norm_train_df[train_target]) # x는 독립변수, y는 종속변수\n",
    "    \n",
    "    # 어떠한 변수를 넣었을때 어느정도의 y값이 나올지? : 예측하는 부분\n",
    "    # 해당 부분과 실제 존재하는(따로 테스트용 데이터로 뺀 25% 부분)의 차이(절댓값)가 rmse \n",
    "    predictions = linear.predict(norm_test_df[i])\n",
    "    \n",
    "    mse = mean_squared_error(norm_test_df[train_target], predictions)\n",
    "    rmse = mse ** (1/2)\n",
    "\n",
    "    print(\"{} 특징값으로 산출한 RMSE : {}\".format(i,rmse)) # 각각의 특징값에 대한 RMSE값 출력 "
   ]
  },
  {
   "cell_type": "code",
   "execution_count": 37,
   "metadata": {},
   "outputs": [
    {
     "name": "stdout",
     "output_type": "stream",
     "text": [
      "['accommodates', 'bedrooms', 'bathrooms'] 특징값으로 산출한 RMSE : 86.87999334556163\n",
      "['accommodates', 'bedrooms', 'number_of_reviews'] 특징값으로 산출한 RMSE : 89.27807239582494\n",
      "['accommodates', 'bathrooms', 'number_of_reviews'] 특징값으로 산출한 RMSE : 88.35418915412448\n",
      "['bedrooms', 'bathrooms', 'number_of_reviews'] 특징값으로 산출한 RMSE : 88.0977884397093\n"
     ]
    }
   ],
   "source": [
    "# 훈련 셋과 테스트 셋을 구분 : 위의 코드에서 이미 실행하였으므로 주석처리함\n",
    "#norm_train_df = normalized_listings.copy().iloc[0:2750] # 약 75%\n",
    "#norm_test_df = normalized_listings.copy().iloc[2750:] # 약 25%\n",
    "\n",
    "# 특징값 3개를 동시에 사용하여 RMSE 산출\n",
    "cols1 = ['accommodates', 'bedrooms', 'bathrooms'] \n",
    "cols2 = ['accommodates', 'bedrooms', 'number_of_reviews']\n",
    "cols3 = ['accommodates', 'bathrooms', 'number_of_reviews']\n",
    "cols4 = ['bedrooms', 'bathrooms', 'number_of_reviews']\n",
    "\n",
    "train_target = 'price'\n",
    "\n",
    "multicols = [cols1, cols2, cols3, cols4]\n",
    " \n",
    "for i in multicols : \n",
    "    linear = LinearRegression()\n",
    "    # 모델 훈련 : coef_(기울기), intercept_(절편값) 전달\n",
    "    # 독립변수 x에 대한 y의 값(상관성) 분석\n",
    "    linear.fit(norm_train_df[i], norm_train_df[train_target])\n",
    "        \n",
    "    # 어떠한 변수를 넣었을때 어느정도의 y값이 나올지? : 예측하는 부분\n",
    "    # 해당 부분과 실제 존재하는(따로 테스트용 데이터로 뺀 25% 부분)의 차이(절댓값)가 rmse \n",
    "    predictions = linear.predict(norm_test_df[i])\n",
    "    \n",
    "    mse = mean_squared_error(norm_test_df[train_target], predictions)\n",
    "    rmse = mse ** (1/2)\n",
    "\n",
    "    print(\"{} 특징값으로 산출한 RMSE : {}\".format(i,rmse)) # 각각의 특징값에 대한 RMSE값 출력 "
   ]
  },
  {
   "cell_type": "code",
   "execution_count": 39,
   "metadata": {},
   "outputs": [
    {
     "name": "stdout",
     "output_type": "stream",
     "text": [
      "['accommodates', 'bedrooms', 'bathrooms', 'number_of_reviews'] 특징값으로 산출한 RMSE : 86.67200445690683\n"
     ]
    }
   ],
   "source": [
    "# 훈련 셋과 테스트 셋을 구분 : 위의 코드에서 이미 실행하였으므로 주석처리함\n",
    "#norm_train_df = normalized_listings.copy().iloc[0:2750] # 약 75%\n",
    "#norm_test_df = normalized_listings.copy().iloc[2750:] # 약 25%\n",
    "\n",
    "# 특징값 4개를 모두 사용하여 RMSE 산출\n",
    "cols = ['accommodates', 'bedrooms', 'bathrooms', 'number_of_reviews']\n",
    "train_target = 'price'\n",
    "\n",
    "linear = LinearRegression() # 선형회귀 사용\n",
    "linear.fit(norm_train_df[cols], norm_train_df[train_target]) \n",
    "    \n",
    "# 어떠한 변수를 넣었을때 어느정도의 y값이 나올지? : 예측하는 부분\n",
    "# 해당 부분과 실제 존재하는(따로 테스트용 데이터로 뺀 25% 부분)의 차이(절댓값)가 rmse \n",
    "predictions = linear.predict(norm_test_df[cols])\n",
    "\n",
    "mse = mean_squared_error(norm_test_df[train_target], predictions)\n",
    "rmse = mse ** (1/2)\n",
    "\n",
    "print(\"{} 특징값으로 산출한 RMSE : {}\".format(cols,rmse))"
   ]
  },
  {
   "cell_type": "markdown",
   "metadata": {},
   "source": [
    " # 실험 코드\n",
    " \n",
    " - 데이터가 어떻게 들어가 있는지? 타입이랑 보기\n",
    " - 삭제해도 되고 안해도 됨.. 제출할땐 삭제"
   ]
  },
  {
   "cell_type": "code",
   "execution_count": 79,
   "metadata": {
    "scrolled": false
   },
   "outputs": [
    {
     "data": {
      "text/plain": [
       "array([151.,  75., 141., 206., 135.,  97., 138.,  63., 110., 310., 101.,\n",
       "        69., 179., 185., 118., 171., 166., 144.,  97., 168.,  68.,  49.,\n",
       "        68., 245., 184., 202., 137.,  85., 131., 283., 129.,  59., 341.,\n",
       "        87.,  65., 102., 265., 276., 252.,  90., 100.,  55.,  61.,  92.,\n",
       "       259.,  53., 190., 142.,  75., 142., 155., 225.,  59., 104., 182.,\n",
       "       128.,  52.,  37., 170., 170.,  61., 144.,  52., 128.,  71., 163.,\n",
       "       150.,  97., 160., 178.,  48., 270., 202., 111.,  85.,  42., 170.,\n",
       "       200., 252., 113., 143.,  51.,  52., 210.,  65., 141.,  55., 134.,\n",
       "        42., 111.,  98., 164.,  48.,  96.,  90., 162., 150., 279.,  92.,\n",
       "        83., 128., 102., 302., 198.,  95.,  53., 134., 144., 232.,  81.,\n",
       "       104.,  59., 246., 297., 258., 229., 275., 281., 179., 200., 200.,\n",
       "       173., 180.,  84., 121., 161.,  99., 109., 115., 268., 274., 158.,\n",
       "       107.,  83., 103., 272.,  85., 280., 336., 281., 118., 317., 235.,\n",
       "        60., 174., 259., 178., 128.,  96., 126., 288.,  88., 292.,  71.,\n",
       "       197., 186.,  25.,  84.,  96., 195.,  53., 217., 172., 131., 214.,\n",
       "        59.,  70., 220., 268., 152.,  47.,  74., 295., 101., 151., 127.,\n",
       "       237., 225.,  81., 151., 107.,  64., 138., 185., 265., 101., 137.,\n",
       "       143., 141.,  79., 292., 178.,  91., 116.,  86., 122.,  72., 129.,\n",
       "       142.,  90., 158.,  39., 196., 222., 277.,  99., 196., 202., 155.,\n",
       "        77., 191.,  70.,  73.,  49.,  65., 263., 248., 296., 214., 185.,\n",
       "        78.,  93., 252., 150.,  77., 208.,  77., 108., 160.,  53., 220.,\n",
       "       154., 259.,  90., 246., 124.,  67.,  72., 257., 262., 275., 177.,\n",
       "        71.,  47., 187., 125.,  78.,  51., 258., 215., 303., 243.,  91.,\n",
       "       150., 310., 153., 346.,  63.,  89.,  50.,  39., 103., 308., 116.,\n",
       "       145.,  74.,  45., 115., 264.,  87., 202., 127., 182., 241.,  66.,\n",
       "        94., 283.,  64., 102., 200., 265.,  94., 230., 181., 156., 233.,\n",
       "        60., 219.,  80.,  68., 332., 248.,  84., 200.,  55.,  85.,  89.,\n",
       "        31., 129.,  83., 275.,  65., 198., 236., 253., 124.,  44., 172.,\n",
       "       114., 142., 109., 180., 144., 163., 147.,  97., 220., 190., 109.,\n",
       "       191., 122., 230., 242., 248., 249., 192., 131., 237.,  78., 135.,\n",
       "       244., 199., 270., 164.,  72.,  96., 306.,  91., 214.,  95., 216.,\n",
       "       263., 178., 113., 200., 139., 139.,  88., 148.,  88., 243.,  71.,\n",
       "        77., 109., 272.,  60.,  54., 221.,  90., 311., 281., 182., 321.,\n",
       "        58., 262., 206., 233., 242., 123., 167.,  63., 197.,  71., 168.,\n",
       "       140., 217., 121., 235., 245.,  40.,  52., 104., 132.,  88.,  69.,\n",
       "       219.,  72., 201., 110.,  51., 277.,  63., 118.,  69., 273., 258.,\n",
       "        43., 198., 242., 232., 175.,  93., 168., 275., 293., 281.,  72.,\n",
       "       140., 189., 181., 209., 136., 261., 113., 131., 174., 257.,  55.,\n",
       "        84.,  42., 146., 212., 233.,  91., 111., 152., 120.,  67., 310.,\n",
       "        94., 183.,  66., 173.,  72.,  49.,  64.,  48., 178., 104., 132.,\n",
       "       220.,  57.])"
      ]
     },
     "execution_count": 79,
     "metadata": {},
     "output_type": "execute_result"
    }
   ],
   "source": [
    "import sklearn.datasets\n",
    "\n",
    "diabetes = sklearn.datasets.load_diabetes()\n",
    "\n",
    "#diabetes\n",
    "#type(diabetes['data'])\n",
    "#dir(diabetes['data'])\n",
    "\n",
    "\n",
    "diabetes['target']"
   ]
  },
  {
   "cell_type": "code",
   "execution_count": 65,
   "metadata": {},
   "outputs": [
    {
     "data": {
      "text/plain": [
       "numpy.ndarray"
      ]
     },
     "execution_count": 65,
     "metadata": {},
     "output_type": "execute_result"
    }
   ],
   "source": [
    "#norm = normalized_listings['accommodates']  \n",
    "normarray = np.array(normalized_listings['accommodates'])\n",
    "\n",
    "#type(normarray)\n",
    "#type(normalized_listings['accommodates'])"
   ]
  }
 ],
 "metadata": {
  "kernelspec": {
   "display_name": "Python 3",
   "language": "python",
   "name": "python3"
  },
  "language_info": {
   "codemirror_mode": {
    "name": "ipython",
    "version": 3
   },
   "file_extension": ".py",
   "mimetype": "text/x-python",
   "name": "python",
   "nbconvert_exporter": "python",
   "pygments_lexer": "ipython3",
   "version": "3.7.3"
  }
 },
 "nbformat": 4,
 "nbformat_minor": 4
}
