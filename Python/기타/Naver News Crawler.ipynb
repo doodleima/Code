{
 "cells": [
  {
   "cell_type": "code",
   "execution_count": 64,
   "metadata": {
    "scrolled": false
   },
   "outputs": [
    {
     "name": "stderr",
     "output_type": "stream",
     "text": [
      "100%|██████████████████████████████████████████████████████████████████████████████████| 31/31 [04:11<00:00,  8.12s/it]\n"
     ]
    }
   ],
   "source": [
    "# 네이버 뉴스 크롤링\n",
    "from bs4 import BeautifulSoup\n",
    "from tqdm import tqdm\n",
    "from random import randint\n",
    "\n",
    "import requests, time\n",
    "import pandas as pd\n",
    "\n",
    "### PARAM ###\n",
    "day_start = '2019.01.01'\n",
    "day_end = '2020.12.30'\n",
    "target_num = 30 # page number\n",
    "page_num = target_num * 10 # 1 page = 10 sections(news) \n",
    "key_word = 'LG전자' # keyword\n",
    "RANDOM_WAIT = randint(3, 7) # prevent site-ban(DDOS)\n",
    "\n",
    "### URL ###\n",
    "base_url = 'https://search.naver.com/search.naver?where=news&sm=tab_jum'\n",
    "# sort = 0(관련도순), 1(최신순), 2(오래된순) / pd = 1(1주), 2(1개월), 3(지정) / photo = 3(지면기사)\n",
    "sort_opt = '&sm=tab_srt&sort=0&pd=3&photo=3' \n",
    "day_opt = '&ds={daystart}&de={dayend}'.format(daystart=day_start, dayend=day_end)\n",
    "\n",
    "### CONTENTS ### - store to DB or CSV file\n",
    "news_dic = {\n",
    "            'news_title': [],\n",
    "            'news_company': [],\n",
    "            'news_link': [],\n",
    "            }\n",
    "\n",
    "try : \n",
    "    for i in tqdm(range(1, page_num+2, 10)) : # tdqm\n",
    "    # for i in range(1, page_num+2, 10) : # normal\n",
    "        # CP = lambda n: str(int(n/10)+1) # current page number\n",
    "        # print('======== PAGE {page} ======='.format(page = CP(i)))\n",
    "        key_page_opt = '&start={pagenum}&query={keyword}'.format(pagenum=str(i), keyword=key_word)\n",
    "        full_url = base_url + key_page_opt + sort_opt + day_opt\n",
    "        \n",
    "        html = requests.get(full_url).text\n",
    "        soup = BeautifulSoup(html, 'html.parser')\n",
    "        main_area = soup.find('div', {'class' : 'group_news'})\n",
    "\n",
    "        for bx in main_area.find_all('li', {'class' : 'bx'}) :\n",
    "            news_area = bx.find('div', {'class' : 'news_area'})\n",
    "            news_com_raw = news_area.find('a', href=True)\n",
    "            # news_com_link = news_com_raw['href'] 언론사 홈페이지\n",
    "            news_com = news_com_raw.text.replace('언론사 선정', '')\n",
    "            news_title_raw = news_area.find('a', {'class' : 'news_tit'}, href=True)\n",
    "            news_title = news_title_raw.text\n",
    "            news_tit_link = news_title_raw['href']\n",
    "            # print('Title: {NT}({link})\\nCompany: {NC}\\n'.format(NT=news_com, link=news_tit_link, NC=news_title))\n",
    "\n",
    "            if news_title not in news_dic['news_title'] : # if title not duplicated\n",
    "                # and news_com not in news_dic['news_company'] : # restriction(additional) \n",
    "                news_dic['news_title'].append(news_title)\n",
    "                news_dic['news_company'].append(news_com)\n",
    "                news_dic['news_link'].append(news_tit_link)\n",
    "\n",
    "        time.sleep(RANDOM_WAIT)\n",
    "\n",
    "except : \n",
    "    try :\n",
    "        df = pd.DataFrame(news_dic)\n",
    "        df.to_csv(\".\\\\\" + key_word + \" 기사 헤드라인.csv\", encoding = 'UTF-8-SIG')    \n",
    "    except :\n",
    "        print('긁어온 기사가 없습니다.\\n')\n",
    "    # return\n",
    "        \n",
    "df = pd.DataFrame(news_dic)\n",
    "df.to_csv(\".\\\\\" + key_word + \" 기사 헤드라인.csv\", encoding = 'UTF-8-SIG') # linux = '/', windows = '\\\\'"
   ]
  },
  {
   "cell_type": "code",
   "execution_count": null,
   "metadata": {},
   "outputs": [],
   "source": []
  }
 ],
 "metadata": {
  "kernelspec": {
   "display_name": "Python 3",
   "language": "python",
   "name": "python3"
  },
  "language_info": {
   "codemirror_mode": {
    "name": "ipython",
    "version": 3
   },
   "file_extension": ".py",
   "mimetype": "text/x-python",
   "name": "python",
   "nbconvert_exporter": "python",
   "pygments_lexer": "ipython3",
   "version": "3.8.5"
  }
 },
 "nbformat": 4,
 "nbformat_minor": 4
}
